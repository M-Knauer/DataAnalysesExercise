{
 "cells": [
  {
   "cell_type": "code",
   "execution_count": 4,
   "id": "57d6408a",
   "metadata": {},
   "outputs": [],
   "source": [
    "import csv\n"
   ]
  },
  {
   "cell_type": "code",
   "execution_count": 78,
   "id": "6b9131cf",
   "metadata": {},
   "outputs": [],
   "source": [
    "#cópia de arquivo\n",
    "with open(\"alunos.csv\", \"r\", newline=\"\", encoding=\"UTF-8\") as file:\n",
    "    reader = csv.reader(file)\n",
    "    header = next(reader)\n",
    "    header.append(\"media\")\n",
    "    with open(\"alunos_media.csv\", \"w\", encoding=\"UTF-8\", newline=\"\") as file_copy:\n",
    "        writer = csv.writer(file_copy)\n",
    "        writer.writerow(header)\n",
    "        for line in reader:\n",
    "            writer.writerow(line)"
   ]
  },
  {
   "cell_type": "code",
   "execution_count": 80,
   "id": "43b326d3",
   "metadata": {
    "scrolled": false
   },
   "outputs": [],
   "source": [
    "with open(\"alunos_media.csv\", \"r+\", newline=\"\", encoding=\"UTF-8\") as file:\n",
    "    reader = csv.reader(file)\n",
    "    header = next(reader)\n",
    "    \n",
    "    with open(\"alunos_media.csv\", \"w\", newline=\"\", encoding=\"UTF-8\") as fileW:\n",
    "        writer = csv.writer(fileW)\n",
    "        writer.writerow(header)\n",
    "        for line in reader:\n",
    "            media = (float(line[3])+float(line[4])+float(line[5])+float(line[6])) / 4\n",
    "            line.append(media)\n",
    "            writer.writerow(line)\n",
    "        "
   ]
  },
  {
   "cell_type": "code",
   "execution_count": 81,
   "id": "c80286c8",
   "metadata": {
    "scrolled": true
   },
   "outputs": [
    {
     "name": "stdout",
     "output_type": "stream",
     "text": [
      "['110201', 'Antonio Carlos', '20', '6.5', '8.5', '7', '6', '7.0']\n",
      "['110212', 'Ana Beatriz', '20', '7', '7', '7', '8', '7.25']\n",
      "['110218', 'Carlos Vernes', '17', '7', '7', '7', '7', '7.0']\n",
      "['110307', 'Francisco Cunha', '20', '9', '8.5', '8.5', '10', '9.0']\n",
      "['110275', 'Sandra Rosa', '15', '6.5', '7.5', '7', '7', '7.0']\n",
      "['110281', 'Juliana Arruda', '18', '7.5', '7', '7.5', '8', '7.5']\n",
      "['110301', 'Joao Galo', '20', '5', '6.5', '7', '5', '5.875']\n",
      "['110263', 'José Valente', '20', '10', '10', '10', '10', '10.0']\n",
      "['110271', 'Maria Ferreira', '19', '9.5', '8', '7', '10', '8.625']\n",
      "['110236', 'Adriana Tavares', '20', '8', '8', '8', '8', '8.0']\n"
     ]
    }
   ],
   "source": [
    "with open(\"alunos_media.csv\", \"r\", newline=\"\", encoding=\"UTF-8\") as file:\n",
    "    reader = csv.reader(file)\n",
    "    for line in reader:\n",
    "        print(line)"
   ]
  }
 ],
 "metadata": {
  "kernelspec": {
   "display_name": "Python 3 (ipykernel)",
   "language": "python",
   "name": "python3"
  },
  "language_info": {
   "codemirror_mode": {
    "name": "ipython",
    "version": 3
   },
   "file_extension": ".py",
   "mimetype": "text/x-python",
   "name": "python",
   "nbconvert_exporter": "python",
   "pygments_lexer": "ipython3",
   "version": "3.10.7"
  }
 },
 "nbformat": 4,
 "nbformat_minor": 5
}
