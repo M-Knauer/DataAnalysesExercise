{
 "cells": [
  {
   "cell_type": "code",
   "execution_count": 57,
   "id": "42174a40",
   "metadata": {},
   "outputs": [],
   "source": [
    "import requests as r\n",
    "from datetime import datetime as dt"
   ]
  },
  {
   "cell_type": "code",
   "execution_count": 58,
   "id": "f95126d7",
   "metadata": {},
   "outputs": [],
   "source": [
    "url = \"https://api.covid19api.com/country/brazil\"\n",
    "\n",
    "req = r.get(url)"
   ]
  },
  {
   "cell_type": "code",
   "execution_count": 59,
   "id": "3dd0c162",
   "metadata": {},
   "outputs": [],
   "source": [
    "dados = req.json()"
   ]
  },
  {
   "cell_type": "code",
   "execution_count": 60,
   "id": "e2c04748",
   "metadata": {},
   "outputs": [],
   "source": [
    "#formata a string para ficar compativel com um numero inteiro\n",
    "def formatString(txt):\n",
    "    strFormated = txt[:10]\n",
    "    strFormated = strFormated.split(\"-\")\n",
    "    strFormated = \"\".join(strFormated)\n",
    "    \n",
    "    return strFormated"
   ]
  },
  {
   "cell_type": "code",
   "execution_count": 61,
   "id": "59318589",
   "metadata": {},
   "outputs": [
    {
     "name": "stdout",
     "output_type": "stream",
     "text": [
      "ID: 63aa488e-b4a2-4fcd-ae15-07c1ff219903\n",
      "Country: Brazil\n",
      "CountryCode: BR\n",
      "Province: \n",
      "City: \n",
      "CityCode: \n",
      "Lat: -14.24\n",
      "Lon: -51.93\n",
      "Confirmed: 1\n",
      "Deaths: 0\n",
      "Recovered: 0\n",
      "Active: 1\n",
      "Date: 2020-02-26T00:00:00Z\n"
     ]
    }
   ],
   "source": [
    "#adciona na lista dates para pegar a menor data\n",
    "dates = []\n",
    "for v in dados:\n",
    "    if int(v[\"Confirmed\"]) > 0:\n",
    "        dates.append(formatString(v[\"Date\"]))\n",
    "\n",
    "#tranforma o menor numero inteiro em uma data\n",
    "firstCaseDate =  dt.strptime(min(dates), \"%Y%m%d\").date()\n",
    "#transforma a data em string\n",
    "strdate = firstCaseDate.strftime(\"%Y-%m-%d\")\n",
    "\n",
    "#faz a comparação entre as strings para pegar os dados da menor data\n",
    "for v in dados:\n",
    "    if v[\"Date\"][:10] == strdate:\n",
    "        for k, v in v.items():\n",
    "            print(f\"{k}: {v}\")\n",
    "            "
   ]
  }
 ],
 "metadata": {
  "kernelspec": {
   "display_name": "Python 3 (ipykernel)",
   "language": "python",
   "name": "python3"
  },
  "language_info": {
   "codemirror_mode": {
    "name": "ipython",
    "version": 3
   },
   "file_extension": ".py",
   "mimetype": "text/x-python",
   "name": "python",
   "nbconvert_exporter": "python",
   "pygments_lexer": "ipython3",
   "version": "3.10.7"
  }
 },
 "nbformat": 4,
 "nbformat_minor": 5
}
