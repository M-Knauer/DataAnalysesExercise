{
 "cells": [
  {
   "cell_type": "code",
   "execution_count": 1,
   "id": "0a09dd1d",
   "metadata": {},
   "outputs": [],
   "source": [
    "import csv"
   ]
  },
  {
   "cell_type": "code",
   "execution_count": 3,
   "id": "cecd7fdd",
   "metadata": {
    "scrolled": true
   },
   "outputs": [
    {
     "name": "stdout",
     "output_type": "stream",
     "text": [
      "['RA', 'Nome', 'Frequencia', 'Prova_1', 'Prova_2', 'Prova_3', 'Prova_4']\n",
      "['110201', 'Antonio Carlos', '20', '6.5', '8.5', '7', '6']\n",
      "['110212', 'Ana Beatriz', '20', '7', '7', '7', '8']\n",
      "['110218', 'Carlos Vernes', '17', '7', '7', '7', '7']\n",
      "['110307', 'Francisco Cunha', '20', '9', '8.5', '8.5', '10']\n",
      "['110275', 'Sandra Rosa', '15', '6.5', '7.5', '7', '7']\n",
      "['110281', 'Juliana Arruda', '18', '7.5', '7', '7.5', '8']\n",
      "['110301', 'Joao Galo', '20', '5', '6.5', '7', '5']\n",
      "['110263', 'José Valente', '20', '10', '10', '10', '10']\n",
      "['110271', 'Maria Ferreira', '19', '9.5', '8', '7', '10']\n",
      "['110236', 'Adriana Tavares', '20', '8', '8', '8', '8']\n"
     ]
    }
   ],
   "source": [
    "with open(\"alunos.csv\", \"r\", encoding=\"UTF-8\") as file:\n",
    "    reader = csv.reader(file)\n",
    "    for line in reader:\n",
    "        print(line)\n",
    "    "
   ]
  },
  {
   "cell_type": "code",
   "execution_count": 8,
   "id": "f600e296",
   "metadata": {},
   "outputs": [],
   "source": [
    "with open(\"alunos.csv\", \"r\", encoding=\"UTF-8\") as file:\n",
    "    reader = csv.reader(file)\n",
    "    with open(\"alunos_copy.csv\", \"w\", encoding=\"UTF-8\", newLine=\"\") as file_copy:\n",
    "        writer = csv.writer(file_copy)\n",
    "        for line in reader:\n",
    "            writer.writerow(line)\n"
   ]
  },
  {
   "cell_type": "code",
   "execution_count": 9,
   "id": "86fb8dd9",
   "metadata": {},
   "outputs": [
    {
     "name": "stdout",
     "output_type": "stream",
     "text": [
      "['RA', 'Nome', 'Frequencia', 'Prova_1', 'Prova_2', 'Prova_3', 'Prova_4']\n",
      "[]\n",
      "['110201', 'Antonio Carlos', '20', '6.5', '8.5', '7', '6']\n",
      "[]\n",
      "['110212', 'Ana Beatriz', '20', '7', '7', '7', '8']\n",
      "[]\n",
      "['110218', 'Carlos Vernes', '17', '7', '7', '7', '7']\n",
      "[]\n",
      "['110307', 'Francisco Cunha', '20', '9', '8.5', '8.5', '10']\n",
      "[]\n",
      "['110275', 'Sandra Rosa', '15', '6.5', '7.5', '7', '7']\n",
      "[]\n",
      "['110281', 'Juliana Arruda', '18', '7.5', '7', '7.5', '8']\n",
      "[]\n",
      "['110301', 'Joao Galo', '20', '5', '6.5', '7', '5']\n",
      "[]\n",
      "['110263', 'José Valente', '20', '10', '10', '10', '10']\n",
      "[]\n",
      "['110271', 'Maria Ferreira', '19', '9.5', '8', '7', '10']\n",
      "[]\n",
      "['110236', 'Adriana Tavares', '20', '8', '8', '8', '8']\n",
      "[]\n"
     ]
    }
   ],
   "source": [
    "with open(\"alunos_copy.csv\", \"r\", encoding=\"UTF-8\") as file:\n",
    "    reader = csv.reader(file)\n",
    "    for line in reader:\n",
    "        print(line)"
   ]
  },
  {
   "cell_type": "code",
   "execution_count": null,
   "id": "f539b40d",
   "metadata": {},
   "outputs": [],
   "source": []
  }
 ],
 "metadata": {
  "kernelspec": {
   "display_name": "Python 3 (ipykernel)",
   "language": "python",
   "name": "python3"
  },
  "language_info": {
   "codemirror_mode": {
    "name": "ipython",
    "version": 3
   },
   "file_extension": ".py",
   "mimetype": "text/x-python",
   "name": "python",
   "nbconvert_exporter": "python",
   "pygments_lexer": "ipython3",
   "version": "3.10.7"
  }
 },
 "nbformat": 4,
 "nbformat_minor": 5
}
