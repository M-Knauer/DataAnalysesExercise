{
 "cells": [
  {
   "cell_type": "code",
   "execution_count": null,
   "id": "5a420468",
   "metadata": {},
   "outputs": [],
   "source": [
    "#parte 2 cópia de arquivo\n",
    "with open(\"alunos.csv\", \"r\", encoding=\"UTF-8\") as file:\n",
    "    reader = csv.reader(file)\n",
    "    with open(\"alunos_copy.csv\", \"w\", encoding=\"UTF-8\", newline=\"\") as file_copy:\n",
    "        writer = csv.writer(file_copy)\n",
    "        for line in reader:\n",
    "            writer.writerow(line)\n"
   ]
  }
 ],
 "metadata": {
  "kernelspec": {
   "display_name": "Python 3 (ipykernel)",
   "language": "python",
   "name": "python3"
  },
  "language_info": {
   "codemirror_mode": {
    "name": "ipython",
    "version": 3
   },
   "file_extension": ".py",
   "mimetype": "text/x-python",
   "name": "python",
   "nbconvert_exporter": "python",
   "pygments_lexer": "ipython3",
   "version": "3.10.7"
  }
 },
 "nbformat": 4,
 "nbformat_minor": 5
}
